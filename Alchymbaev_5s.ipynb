{
  "nbformat": 4,
  "nbformat_minor": 0,
  "metadata": {
    "kernelspec": {
      "display_name": "Python 3",
      "language": "python",
      "name": "python3"
    },
    "language_info": {
      "codemirror_mode": {
        "name": "ipython",
        "version": 3
      },
      "file_extension": ".py",
      "mimetype": "text/x-python",
      "name": "python",
      "nbconvert_exporter": "python",
      "pygments_lexer": "ipython3",
      "version": "3.7.1"
    },
    "colab": {
      "name": "practic_Alchymbaev.ipynb",
      "provenance": [],
      "collapsed_sections": []
    }
  },
  "cells": [
    {
      "cell_type": "markdown",
      "metadata": {
        "id": "bdBoVpFninyF"
      },
      "source": [
        "# Практическая задача"
      ]
    },
    {
      "cell_type": "markdown",
      "metadata": {
        "id": "PXt7CW6linyG"
      },
      "source": [
        "Решить систему: $Ax = f$\n",
        "$$\n",
        "A = \\begin{pmatrix}\n",
        "    b_1 & c_1 & & & \\\\\n",
        "    a_2 & b_2 & c_2 & & \\\\\n",
        "    & a_3 & b_3 & c_3 & \\\\\n",
        "    & & \\ddots & & \\\\\n",
        "    & & a_n & b_n & c_n \\\\\n",
        "    p_1 & p_2 & \\dots & p_n & p_{n+1}\n",
        "\\end{pmatrix}\n",
        "\\hspace{20pt}\n",
        "f = \\begin{pmatrix}\n",
        "    f_1 \\\\ f_2 \\\\ \\vdots \\\\ f_n \\\\ f_{n+1}\n",
        "\\end{pmatrix}\n",
        "$$\n",
        "\n",
        "$n = 99$, $a_i = c_i = 1$, $b_i = 10$, $p_i = 1$, $f_i = i$\n",
        "\n",
        "**a.** прямым методом (методом Гаусса): вывести на печать решение и невязки\n",
        "\n",
        "**b.** итерационным методом (методом Зейделя) с точностью $\\varepsilon=10^{-3}$: вывести на печать решение\n",
        "\n",
        "**c.** определить число обусловленности матрицы системы $\\mu = \\left|\\left|A^{-1}\\right|\\right|\\cdot \\left|\\left|A\\right|\\right|$\n",
        "\n",
        "(УКАЗАНИЕ:</i> найти $\\lambda_\\max$ степенным методом, затем $\\lambda_\\min$ , используя сдвиг спектра матрицы, для определения числа обусловленности воспользоваться евклидовой нормой)."
      ]
    },
    {
      "cell_type": "code",
      "metadata": {
        "id": "1_doIEVxoz1n"
      },
      "source": [
        "import numpy as np"
      ],
      "execution_count": null,
      "outputs": []
    },
    {
      "cell_type": "code",
      "metadata": {
        "id": "otLZDBQLinyH",
        "colab": {
          "base_uri": "https://localhost:8080/"
        },
        "outputId": "cdbe12ab-8dc2-4d7b-b1fe-76b0c12316cf"
      },
      "source": [
        "def generate_syst():\n",
        "  n = 100 \n",
        "  A = np.zeros((n, n))\n",
        "  f = np.zeros(n) \n",
        "  for i in range(n):\n",
        "    f[i] = i+1\n",
        "    for j in range(n):\n",
        "      if (i == j):\n",
        "        A[i][j] = 10\n",
        "      if (abs(i-j) == 1):\n",
        "        if (i == n-1 or j == n-1):\n",
        "          continue\n",
        "        A[i][j] = 1\n",
        "        A[n-2][n-1] = 1\n",
        "      A[99][j] = 1\n",
        "      \n",
        "\n",
        "  return A, f\n",
        "#A, f = generate_syst()\n",
        "#A, f\n"
      ],
      "execution_count": null,
      "outputs": [
        {
          "output_type": "execute_result",
          "data": {
            "text/plain": [
              "(array([[10.,  1.,  0., ...,  0.,  0.,  0.],\n",
              "        [ 1., 10.,  1., ...,  0.,  0.,  0.],\n",
              "        [ 0.,  1., 10., ...,  0.,  0.,  0.],\n",
              "        ...,\n",
              "        [ 0.,  0.,  0., ..., 10.,  1.,  0.],\n",
              "        [ 0.,  0.,  0., ...,  1., 10.,  1.],\n",
              "        [ 1.,  1.,  1., ...,  1.,  1.,  1.]]),\n",
              " array([  1.,   2.,   3.,   4.,   5.,   6.,   7.,   8.,   9.,  10.,  11.,\n",
              "         12.,  13.,  14.,  15.,  16.,  17.,  18.,  19.,  20.,  21.,  22.,\n",
              "         23.,  24.,  25.,  26.,  27.,  28.,  29.,  30.,  31.,  32.,  33.,\n",
              "         34.,  35.,  36.,  37.,  38.,  39.,  40.,  41.,  42.,  43.,  44.,\n",
              "         45.,  46.,  47.,  48.,  49.,  50.,  51.,  52.,  53.,  54.,  55.,\n",
              "         56.,  57.,  58.,  59.,  60.,  61.,  62.,  63.,  64.,  65.,  66.,\n",
              "         67.,  68.,  69.,  70.,  71.,  72.,  73.,  74.,  75.,  76.,  77.,\n",
              "         78.,  79.,  80.,  81.,  82.,  83.,  84.,  85.,  86.,  87.,  88.,\n",
              "         89.,  90.,  91.,  92.,  93.,  94.,  95.,  96.,  97.,  98.,  99.,\n",
              "        100.]))"
            ]
          },
          "metadata": {
            "tags": []
          },
          "execution_count": 71
        }
      ]
    },
    {
      "cell_type": "markdown",
      "metadata": {
        "id": "C-rjcWTZinyL"
      },
      "source": [
        "## a. Метод Гаусса\n",
        "\n",
        " Решим систему $Ax=f$ методом Гаусса"
      ]
    },
    {
      "cell_type": "code",
      "metadata": {
        "id": "UQGc2HcHinyL",
        "colab": {
          "base_uri": "https://localhost:8080/"
        },
        "outputId": "a598fd71-e7ac-4afb-e575-24f4ec768b36"
      },
      "source": [
        "import sys\n",
        "\n",
        "# Reading number of unknowns\n",
        "n = 100\n",
        "\n",
        "# Making numpy array of n x n+1 size and initializing \n",
        "# to zero for storing augmented matrix\n",
        "A, f = generate_syst()\n",
        "x = np.zeros(n)\n",
        "A_ = np.column_stack((A, f))\n",
        "\n",
        "# Applying Gauss Elimination\n",
        "for i in range(n):\n",
        "    if A_[i][i] == 0.0:\n",
        "        sys.exit('Divide by zero detected!')\n",
        "        \n",
        "    for j in range(i+1, n):\n",
        "        ratio = A_[j][i]/A_[i][i]\n",
        "        \n",
        "        for k in range(n+1):\n",
        "            A_[j][k] = A_[j][k] - ratio * A_[i][k]\n",
        "\n",
        "# Back Substitution\n",
        "x[n-1] = A_[n-1][n]/A_[n-1][n-1]\n",
        "\n",
        "for i in range(n-2,-1,-1):\n",
        "    x[i] = A_[i][n]\n",
        "    \n",
        "    for j in range(i+1,n):\n",
        "        x[i] = x[i] - A_[i][j]*x[j]\n",
        "    \n",
        "    x[i] = x[i]/A_[i][i]\n",
        "\n",
        "# Displaying solution\n",
        "print('\\nRequired solution is: ')\n",
        "for i in range(n):\n",
        "    print('X%d = %0.3f' %(i,x[i]), end = '\\t')\n",
        "vec_err = A @ x - f\n",
        "print('\\nResiduals are: ')\n",
        "for i in range(n):\n",
        "    print('err%d = %e' %(i,vec_err[i]), end = '\\t')\n",
        "\n"
      ],
      "execution_count": null,
      "outputs": [
        {
          "output_type": "stream",
          "text": [
            "\n",
            "Required solution is: \n",
            "X0 = 0.083\tX1 = 0.167\tX2 = 0.250\tX3 = 0.333\tX4 = 0.417\tX5 = 0.500\tX6 = 0.583\tX7 = 0.667\tX8 = 0.750\tX9 = 0.833\tX10 = 0.917\tX11 = 1.000\tX12 = 1.083\tX13 = 1.167\tX14 = 1.250\tX15 = 1.333\tX16 = 1.417\tX17 = 1.500\tX18 = 1.583\tX19 = 1.667\tX20 = 1.750\tX21 = 1.833\tX22 = 1.917\tX23 = 2.000\tX24 = 2.083\tX25 = 2.167\tX26 = 2.250\tX27 = 2.333\tX28 = 2.417\tX29 = 2.500\tX30 = 2.583\tX31 = 2.667\tX32 = 2.750\tX33 = 2.833\tX34 = 2.917\tX35 = 3.000\tX36 = 3.083\tX37 = 3.167\tX38 = 3.250\tX39 = 3.333\tX40 = 3.417\tX41 = 3.500\tX42 = 3.583\tX43 = 3.667\tX44 = 3.750\tX45 = 3.833\tX46 = 3.917\tX47 = 4.000\tX48 = 4.083\tX49 = 4.167\tX50 = 4.250\tX51 = 4.333\tX52 = 4.417\tX53 = 4.500\tX54 = 4.583\tX55 = 4.667\tX56 = 4.750\tX57 = 4.833\tX58 = 4.917\tX59 = 5.000\tX60 = 5.083\tX61 = 5.167\tX62 = 5.250\tX63 = 5.333\tX64 = 5.417\tX65 = 5.500\tX66 = 5.583\tX67 = 5.667\tX68 = 5.750\tX69 = 5.833\tX70 = 5.917\tX71 = 6.000\tX72 = 6.083\tX73 = 6.167\tX74 = 6.250\tX75 = 6.333\tX76 = 6.417\tX77 = 6.500\tX78 = 6.583\tX79 = 6.667\tX80 = 6.750\tX81 = 6.833\tX82 = 6.917\tX83 = 7.000\tX84 = 7.083\tX85 = 7.167\tX86 = 7.250\tX87 = 7.333\tX88 = 7.417\tX89 = 7.500\tX90 = 7.583\tX91 = 7.667\tX92 = 7.750\tX93 = 7.833\tX94 = 7.920\tX95 = 7.963\tX96 = 8.448\tX97 = 4.562\tX98 = 43.935\tX99 = -344.911\t\n",
            "Residuals are: \n",
            "err0 = 2.220446e-16\terr1 = -2.220446e-16\terr2 = -4.440892e-16\terr3 = -4.440892e-16\terr4 = 0.000000e+00\terr5 = 0.000000e+00\terr6 = 0.000000e+00\terr7 = 0.000000e+00\terr8 = 0.000000e+00\terr9 = 0.000000e+00\terr10 = 1.776357e-15\terr11 = 0.000000e+00\terr12 = 3.552714e-15\terr13 = 1.776357e-15\terr14 = 0.000000e+00\terr15 = 3.552714e-15\terr16 = 0.000000e+00\terr17 = 0.000000e+00\terr18 = 3.552714e-15\terr19 = 0.000000e+00\terr20 = 3.552714e-15\terr21 = 3.552714e-15\terr22 = 3.552714e-15\terr23 = 0.000000e+00\terr24 = 0.000000e+00\terr25 = 0.000000e+00\terr26 = 3.552714e-15\terr27 = -3.552714e-15\terr28 = 3.552714e-15\terr29 = 0.000000e+00\terr30 = -7.105427e-15\terr31 = -3.552714e-15\terr32 = 0.000000e+00\terr33 = -7.105427e-15\terr34 = 0.000000e+00\terr35 = 0.000000e+00\terr36 = 0.000000e+00\terr37 = 7.105427e-15\terr38 = 7.105427e-15\terr39 = 0.000000e+00\terr40 = 0.000000e+00\terr41 = 0.000000e+00\terr42 = 7.105427e-15\terr43 = 7.105427e-15\terr44 = -7.105427e-15\terr45 = 7.105427e-15\terr46 = 0.000000e+00\terr47 = 0.000000e+00\terr48 = 0.000000e+00\terr49 = 0.000000e+00\terr50 = 0.000000e+00\terr51 = 1.421085e-14\terr52 = 7.105427e-15\terr53 = 0.000000e+00\terr54 = 1.421085e-14\terr55 = 7.105427e-15\terr56 = 0.000000e+00\terr57 = 1.421085e-14\terr58 = 7.105427e-15\terr59 = 0.000000e+00\terr60 = 1.421085e-14\terr61 = 7.105427e-15\terr62 = 0.000000e+00\terr63 = 1.421085e-14\terr64 = 0.000000e+00\terr65 = 0.000000e+00\terr66 = 1.421085e-14\terr67 = 0.000000e+00\terr68 = 0.000000e+00\terr69 = 0.000000e+00\terr70 = 1.421085e-14\terr71 = 0.000000e+00\terr72 = 1.421085e-14\terr73 = 0.000000e+00\terr74 = 0.000000e+00\terr75 = 1.421085e-14\terr76 = 0.000000e+00\terr77 = 1.421085e-14\terr78 = -1.421085e-14\terr79 = 0.000000e+00\terr80 = 1.421085e-14\terr81 = 0.000000e+00\terr82 = 0.000000e+00\terr83 = 1.421085e-14\terr84 = 0.000000e+00\terr85 = 1.421085e-14\terr86 = 0.000000e+00\terr87 = 1.421085e-14\terr88 = 0.000000e+00\terr89 = 0.000000e+00\terr90 = -1.421085e-14\terr91 = 1.421085e-14\terr92 = 1.421085e-14\terr93 = 0.000000e+00\terr94 = 1.421085e-14\terr95 = 0.000000e+00\terr96 = 2.842171e-14\terr97 = 0.000000e+00\terr98 = 5.684342e-14\terr99 = 1.136868e-13\t"
          ],
          "name": "stdout"
        }
      ]
    },
    {
      "cell_type": "code",
      "metadata": {
        "id": "EKY8Z_CzinyO",
        "colab": {
          "base_uri": "https://localhost:8080/"
        },
        "outputId": "fda81e3f-38ec-45b2-b39f-700fe890a21b"
      },
      "source": [
        "A, f = generate_syst()\n",
        "vec_err = A @ x - f\n",
        "print(f'gauss_err = {np.linalg.norm(vec_err)}')"
      ],
      "execution_count": null,
      "outputs": [
        {
          "output_type": "stream",
          "text": [
            "gauss_err = 1.4676358947034606e-13\n"
          ],
          "name": "stdout"
        }
      ]
    },
    {
      "cell_type": "markdown",
      "metadata": {
        "id": "pi4E7ooninyW"
      },
      "source": [
        "## b. Метод Зейделя\n",
        "\n",
        "Реализуем функцию `seidel_meth(A, f, eps)`, решающую систему $Ax=f$ методом Зейделя с точностью `eps`"
      ]
    },
    {
      "cell_type": "code",
      "metadata": {
        "id": "Hq6jL7v9inyW"
      },
      "source": [
        "def L_D_U(A):\n",
        "    L = np.tril(A, -1)\n",
        "    D = np.tril(np.triu(A))\n",
        "    U = np.triu(A, 1)\n",
        "    return L, D, U\n",
        "\n",
        "\n",
        "def seidel_meth(A, f, eps=1e-4, max_iter=1e6):  \n",
        "    L, D, U = L_D_U(A)\n",
        "    \n",
        "    B = -np.linalg.inv(L + D) @ U\n",
        "    C = np.linalg.inv(L + D) @ f\n",
        "    \n",
        "    x = np.ones(100)  # начальное приближение\n",
        "    k = 0\n",
        "    \n",
        "    while k < max_iter and np.linalg.norm(A @ x - f) > eps:\n",
        "        x = B @ x + C\n",
        "        k += 1\n",
        "        \n",
        "    return x, k"
      ],
      "execution_count": null,
      "outputs": []
    },
    {
      "cell_type": "code",
      "metadata": {
        "id": "ZFYNAl_oinyX",
        "colab": {
          "base_uri": "https://localhost:8080/"
        },
        "outputId": "0a525b50-be22-4f22-f912-7530b39f060d"
      },
      "source": [
        "A, f = generate_syst() \n",
        "x, num_iter = seidel_meth(A, f)\n",
        "v_err = A @ x - f\n",
        "print(f'err(Seidel) = {np.linalg.norm(v_err)}\\n'\n",
        "      f'iterations = {num_iter}')"
      ],
      "execution_count": null,
      "outputs": [
        {
          "output_type": "stream",
          "text": [
            "err(Seidel) = 4.313223514683523e-05\n",
            "iterations = 8\n"
          ],
          "name": "stdout"
        }
      ]
    },
    {
      "cell_type": "code",
      "metadata": {
        "colab": {
          "base_uri": "https://localhost:8080/"
        },
        "id": "R2ztiju6ezlp",
        "outputId": "cbbdc3fb-1bc7-4d24-aaa5-76d5e7730d9a"
      },
      "source": [
        "# Displaying solution\n",
        "print('\\nRequired solution is: ')\n",
        "for i in range(n):\n",
        "    print('X%d = %0.3f' %(i,x[i]), end = '\\t')\n",
        "print('\\nResiduals are: ')\n",
        "for i in range(n):\n",
        "    print('err%d = %e' %(i,v_err[i]), end = '\\t')"
      ],
      "execution_count": null,
      "outputs": [
        {
          "output_type": "stream",
          "text": [
            "\n",
            "Required solution is: \n",
            "X0 = 0.083\tX1 = 0.167\tX2 = 0.250\tX3 = 0.333\tX4 = 0.417\tX5 = 0.500\tX6 = 0.583\tX7 = 0.667\tX8 = 0.750\tX9 = 0.833\tX10 = 0.917\tX11 = 1.000\tX12 = 1.083\tX13 = 1.167\tX14 = 1.250\tX15 = 1.333\tX16 = 1.417\tX17 = 1.500\tX18 = 1.583\tX19 = 1.667\tX20 = 1.750\tX21 = 1.833\tX22 = 1.917\tX23 = 2.000\tX24 = 2.083\tX25 = 2.167\tX26 = 2.250\tX27 = 2.333\tX28 = 2.417\tX29 = 2.500\tX30 = 2.583\tX31 = 2.667\tX32 = 2.750\tX33 = 2.833\tX34 = 2.917\tX35 = 3.000\tX36 = 3.083\tX37 = 3.167\tX38 = 3.250\tX39 = 3.333\tX40 = 3.417\tX41 = 3.500\tX42 = 3.583\tX43 = 3.667\tX44 = 3.750\tX45 = 3.833\tX46 = 3.917\tX47 = 4.000\tX48 = 4.083\tX49 = 4.167\tX50 = 4.250\tX51 = 4.333\tX52 = 4.417\tX53 = 4.500\tX54 = 4.583\tX55 = 4.667\tX56 = 4.750\tX57 = 4.833\tX58 = 4.917\tX59 = 5.000\tX60 = 5.083\tX61 = 5.167\tX62 = 5.250\tX63 = 5.333\tX64 = 5.417\tX65 = 5.500\tX66 = 5.583\tX67 = 5.667\tX68 = 5.750\tX69 = 5.833\tX70 = 5.917\tX71 = 6.000\tX72 = 6.083\tX73 = 6.167\tX74 = 6.250\tX75 = 6.333\tX76 = 6.417\tX77 = 6.500\tX78 = 6.583\tX79 = 6.667\tX80 = 6.750\tX81 = 6.833\tX82 = 6.917\tX83 = 7.000\tX84 = 7.083\tX85 = 7.167\tX86 = 7.250\tX87 = 7.333\tX88 = 7.417\tX89 = 7.500\tX90 = 7.583\tX91 = 7.667\tX92 = 7.750\tX93 = 7.833\tX94 = 7.920\tX95 = 7.963\tX96 = 8.448\tX97 = 4.562\tX98 = 43.935\tX99 = -344.911\t\n",
            "Residuals are: \n",
            "err0 = 1.044462e-08\terr1 = 5.951410e-09\terr2 = 1.271043e-09\terr3 = -3.392669e-09\terr4 = -8.057864e-09\terr5 = -1.272293e-08\terr6 = -1.738800e-08\terr7 = -2.205308e-08\terr8 = -2.671815e-08\terr9 = -3.138322e-08\terr10 = -3.604830e-08\terr11 = -4.071337e-08\terr12 = -4.537844e-08\terr13 = -5.004352e-08\terr14 = -5.470859e-08\terr15 = -5.937367e-08\terr16 = -6.403874e-08\terr17 = -6.870381e-08\terr18 = -7.336889e-08\terr19 = -7.803396e-08\terr20 = -8.269903e-08\terr21 = -8.736411e-08\terr22 = -9.202918e-08\terr23 = -9.669425e-08\terr24 = -1.013593e-07\terr25 = -1.060244e-07\terr26 = -1.106895e-07\terr27 = -1.153545e-07\terr28 = -1.200196e-07\terr29 = -1.246847e-07\terr30 = -1.293498e-07\terr31 = -1.340148e-07\terr32 = -1.386799e-07\terr33 = -1.433450e-07\terr34 = -1.480101e-07\terr35 = -1.526751e-07\terr36 = -1.573402e-07\terr37 = -1.620053e-07\terr38 = -1.666704e-07\terr39 = -1.713354e-07\terr40 = -1.760005e-07\terr41 = -1.806656e-07\terr42 = -1.853306e-07\terr43 = -1.899957e-07\terr44 = -1.946608e-07\terr45 = -1.993259e-07\terr46 = -2.039910e-07\terr47 = -2.086560e-07\terr48 = -2.133211e-07\terr49 = -2.179862e-07\terr50 = -2.226513e-07\terr51 = -2.273163e-07\terr52 = -2.319814e-07\terr53 = -2.366465e-07\terr54 = -2.413115e-07\terr55 = -2.459766e-07\terr56 = -2.506417e-07\terr57 = -2.553068e-07\terr58 = -2.599718e-07\terr59 = -2.646369e-07\terr60 = -2.693020e-07\terr61 = -2.739671e-07\terr62 = -2.786321e-07\terr63 = -2.832972e-07\terr64 = -2.879623e-07\terr65 = -2.926273e-07\terr66 = -2.972924e-07\terr67 = -3.019575e-07\terr68 = -3.066226e-07\terr69 = -3.112876e-07\terr70 = -3.159527e-07\terr71 = -3.206178e-07\terr72 = -3.252829e-07\terr73 = -3.299479e-07\terr74 = -3.346130e-07\terr75 = -3.392781e-07\terr76 = -3.439432e-07\terr77 = -3.486082e-07\terr78 = -3.532733e-07\terr79 = -3.579384e-07\terr80 = -3.626034e-07\terr81 = -3.672685e-07\terr82 = -3.719336e-07\terr83 = -3.765987e-07\terr84 = -3.812638e-07\terr85 = -3.859288e-07\terr86 = -3.905939e-07\terr87 = -3.952590e-07\terr88 = -3.999241e-07\terr89 = -4.045891e-07\terr90 = -4.092542e-07\terr91 = 3.466797e-05\terr92 = -2.376278e-05\terr93 = 9.089253e-06\terr94 = -2.434251e-06\terr95 = 5.686960e-07\terr96 = -6.433653e-08\terr97 = 3.807430e-08\terr98 = 1.913077e-08\terr99 = -2.842171e-14\t"
          ],
          "name": "stdout"
        }
      ]
    },
    {
      "cell_type": "markdown",
      "metadata": {
        "id": "H97rXW-dinyb"
      },
      "source": [
        "## c. Число обусловленности\n",
        "\n",
        "Что должны получить:"
      ]
    },
    {
      "cell_type": "code",
      "metadata": {
        "id": "9nx_WlI4inyb",
        "colab": {
          "base_uri": "https://localhost:8080/"
        },
        "outputId": "7d67852d-a064-46a2-d0c5-c7794357b2dc"
      },
      "source": [
        "A, f = generate_syst()\n",
        "m = np.linalg.cond(A, 2)\n",
        "print(f'm = {m}')"
      ],
      "execution_count": null,
      "outputs": [
        {
          "output_type": "stream",
          "text": [
            "m = 22.458341939715567\n"
          ],
          "name": "stdout"
        }
      ]
    },
    {
      "cell_type": "markdown",
      "metadata": {
        "id": "JJA4lyAainyc"
      },
      "source": [
        "### Степенной метод\n",
        "\n",
        "$$x^{(k+1)} = Ax^{(k)},\\quad \\frac{\\left(x^{(k+1)}, x^{(k)}\\right)}{\\left(x^{(k)}, x^{(k)}\\right)} \\overset{k\\to\\infty}{\\longrightarrow} \\lambda_\\max$$\n",
        "\n",
        "Реализуем его"
      ]
    },
    {
      "cell_type": "code",
      "metadata": {
        "id": "H3qhpLxSinyd"
      },
      "source": [
        "def lambda_max_abs(A, eps=1e-4, max_iter=1e5):\n",
        "    lam = lambda k: np.dot(x[k+1], x[k]) / np.dot(x[k], x[k])\n",
        "\n",
        "    x = [np.ones(100), np.ones(100)]\n",
        "    l = [lam(0)]\n",
        "    k = 1\n",
        "\n",
        "    while k < max_iter:\n",
        "        x.append(A @ x[k]) \n",
        "        l.append(lam(k))\n",
        "\n",
        "        if np.abs(l[k] - l[k-1]) < eps:\n",
        "            break\n",
        "        k += 1\n",
        "\n",
        "    return l[-1]\n",
        "#lambda_max = lambda_max_abs(A, eps=1e-4, max_iter=1e5)\n",
        "#lambda_max"
      ],
      "execution_count": null,
      "outputs": []
    },
    {
      "cell_type": "code",
      "metadata": {
        "id": "abAhf3JQinye",
        "colab": {
          "base_uri": "https://localhost:8080/"
        },
        "outputId": "4ddb4f30-3af6-4e47-ba9e-96d14cc65008"
      },
      "source": [
        "A, f = generate_syst()\n",
        "\n",
        "A1 = np.transpose(A) @ A\n",
        "l1 = lambda_max_abs(A1)\n",
        "\n",
        "A2 = np.linalg.inv(A1)\n",
        "l2 = lambda_max_abs(A2)\n",
        "\n",
        "print(f'm = {np.sqrt(l1) * np.sqrt(l2)}')"
      ],
      "execution_count": null,
      "outputs": [
        {
          "output_type": "stream",
          "text": [
            "m = 22.458341219181033\n"
          ],
          "name": "stdout"
        }
      ]
    }
  ]
}